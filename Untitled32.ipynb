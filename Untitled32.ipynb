{
 "cells": [
  {
   "cell_type": "code",
   "execution_count": 1,
   "metadata": {},
   "outputs": [
    {
     "name": "stdout",
     "output_type": "stream",
     "text": [
      "{'Name': 'Gitam', 'EmailId': 'gitam@gmail.com', 'Address': 'Hyderabad'}\n"
     ]
    }
   ],
   "source": [
    "d1 = {\"Name\":\"Gitam\",\"EmailId\":\"gitam@gmail.com\",\"Address\":\"Hyderabad\"}\n",
    "print(d1)"
   ]
  },
  {
   "cell_type": "code",
   "execution_count": 2,
   "metadata": {},
   "outputs": [
    {
     "ename": "SyntaxError",
     "evalue": "unexpected EOF while parsing (<ipython-input-2-008409bfb765>, line 8)",
     "output_type": "error",
     "traceback": [
      "\u001b[1;36m  File \u001b[1;32m\"<ipython-input-2-008409bfb765>\"\u001b[1;36m, line \u001b[1;32m8\u001b[0m\n\u001b[1;33m    genericlarge(li,4\u001b[0m\n\u001b[1;37m                     ^\u001b[0m\n\u001b[1;31mSyntaxError\u001b[0m\u001b[1;31m:\u001b[0m unexpected EOF while parsing\n"
     ]
    }
   ],
   "source": [
    "def secondlarge(li):\n",
    "   li.sort()\n",
    "   return li[-2]\n",
    "def genericlarge(li,n):\n",
    "   li.sort()\n",
    "   return li[-n]\n",
    "li = [1,19,6,2,8,18,3]\n",
    "genericlarge(li,4"
   ]
  },
  {
   "cell_type": "code",
   "execution_count": 3,
   "metadata": {},
   "outputs": [
    {
     "ename": "IndentationError",
     "evalue": "expected an indented block (<ipython-input-3-f61a6bea5397>, line 9)",
     "output_type": "error",
     "traceback": [
      "\u001b[1;36m  File \u001b[1;32m\"<ipython-input-3-f61a6bea5397>\"\u001b[1;36m, line \u001b[1;32m9\u001b[0m\n\u001b[1;33m    li=[]\u001b[0m\n\u001b[1;37m     ^\u001b[0m\n\u001b[1;31mIndentationError\u001b[0m\u001b[1;31m:\u001b[0m expected an indented block\n"
     ]
    }
   ],
   "source": [
    "# function for conversation - number to list\n",
    "# output --- number\n",
    "# output -- list\n",
    "# test cases :-\n",
    "# 14569 -- [1,4,5,6,9]\n",
    "# 1990 -- [ 1,9,9,0]\n",
    " \n",
    "def numberlistconversion(n):\n",
    "li=[]\n",
    "while n!=0:\n",
    "  r=n%10\n",
    "  li.append(r)\n",
    "  n=n//10\n",
    "li.reverse()\n",
    "return li\n",
    "numberlistconversion(14569)#[1,4,5,6,9]"
   ]
  },
  {
   "cell_type": "code",
   "execution_count": 4,
   "metadata": {},
   "outputs": [
    {
     "data": {
      "text/plain": [
       "2"
      ]
     },
     "execution_count": 4,
     "metadata": {},
     "output_type": "execute_result"
    }
   ],
   "source": [
    "def countcharoccurances(s,c):\n",
    "   cnt = 0\n",
    "   for ch in s:\n",
    "       if ch == c:\n",
    "           cnt += 1\n",
    "   return cnt\n",
    "countcharoccurances(\"python programming\", 'm')"
   ]
  },
  {
   "cell_type": "code",
   "execution_count": 6,
   "metadata": {},
   "outputs": [
    {
     "data": {
      "text/plain": [
       "[1, 3, 6, 18, 19, 25]"
      ]
     },
     "execution_count": 6,
     "metadata": {},
     "output_type": "execute_result"
    }
   ],
   "source": [
    "#function to represent the bubble sort\n",
    "def bubbleSort(li):\n",
    "   for i in range(len(li)-1):\n",
    "       for j in range(len(li)-1):\n",
    "           if li[j]>li[j+1]:\n",
    "               li[j],li[j+1]=li[j+1],li[j]\n",
    "   return li\n",
    "li=[19,1,25,6,18,3]\n",
    "bubbleSort(li)"
   ]
  },
  {
   "cell_type": "code",
   "execution_count": null,
   "metadata": {},
   "outputs": [],
   "source": []
  }
 ],
 "metadata": {
  "kernelspec": {
   "display_name": "Python 3",
   "language": "python",
   "name": "python3"
  },
  "language_info": {
   "codemirror_mode": {
    "name": "ipython",
    "version": 3
   },
   "file_extension": ".py",
   "mimetype": "text/x-python",
   "name": "python",
   "nbconvert_exporter": "python",
   "pygments_lexer": "ipython3",
   "version": "3.7.3"
  }
 },
 "nbformat": 4,
 "nbformat_minor": 2
}
